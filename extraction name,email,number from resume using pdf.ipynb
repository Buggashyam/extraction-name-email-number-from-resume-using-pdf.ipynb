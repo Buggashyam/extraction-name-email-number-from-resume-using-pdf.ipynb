{
 "cells": [
  {
   "cell_type": "code",
   "execution_count": 2,
   "id": "103392ae-8670-43d9-b6ef-1a34a69d5359",
   "metadata": {},
   "outputs": [
    {
     "name": "stdout",
     "output_type": "stream",
     "text": [
      "        Name      Email      Phone\n",
      "0  Not Found  Not Found  Not Found\n"
     ]
    }
   ],
   "source": [
    "import pdfplumber\n",
    "import re\n",
    "import pandas as pd\n",
    "\n",
    "# Function to extract email\n",
    "def extract_emails(text):\n",
    "    email_pattern = r\"[a-zA-Z0-9+_.-]+@[a-zA-Z0-9.-]+\\.[a-zA-Z]{2,}\"\n",
    "    emails = re.findall(email_pattern, text)\n",
    "    return emails[0] if emails else \"Not Found\"\n",
    "\n",
    "# Function to extract phone numbers\n",
    "def extract_phone_numbers(text):\n",
    "    phone_pattern = r\"\\+?\\d{0,3}?[-.\\s]?\\(?\\d{2,4}\\)?[-.\\s]?\\d{3,5}[-.\\s]?\\d{4}\"\n",
    "    phones = re.findall(phone_pattern, text)\n",
    "    return phones[0] if phones else \"Not Found\"\n",
    "\n",
    "# Function to extract Name (Based on Capital Letters Pattern)\n",
    "def extract_name(text):\n",
    "    pattern = r\"\\b[A-Z][a-z]+\\s[A-Z][a-z]+\\b\"  # Detect First Name + Last Name\n",
    "    matches = re.findall(pattern, text)\n",
    "    return matches[0] if matches else \"Not Found\"\n",
    "\n",
    "# Function to Extract Data from PDF\n",
    "def extract_resume_data(pdf_path):\n",
    "    text = \"\"\n",
    "    try:\n",
    "        with pdfplumber.open(pdf_path) as pdf:\n",
    "            for page in pdf.pages:\n",
    "                single_page_text = page.extract_text()\n",
    "                if single_page_text:\n",
    "                    text += single_page_text + \"\\n\"\n",
    "\n",
    "        if text.strip() == \"\":\n",
    "            return {\"Error\": \"PDF contains images or no text found\"}\n",
    "\n",
    "        name = extract_name(text)\n",
    "        email = extract_emails(text)\n",
    "        phone = extract_phone_numbers(text)\n",
    "        \n",
    "        return {\n",
    "            \"Name\": name,\n",
    "            \"Email\": email,\n",
    "            \"Phone\": phone\n",
    "        }\n",
    "\n",
    "    except Exception as e:\n",
    "        return {\"Error\": str(e)}\n",
    "\n",
    "# File Path (Use Raw String for Windows Path)\n",
    "pdf_path = r\"C:\\Users\\bugga shyam\\Downloads\\pandas\\csv2.pdf\"  # Replace with your file path\n",
    "\n",
    "# Extract Data\n",
    "data = extract_resume_data(pdf_path)\n",
    "df = pd.DataFrame([data])\n",
    "\n",
    "# Display Result\n",
    "print(df)\n"
   ]
  },
  {
   "cell_type": "code",
   "execution_count": null,
   "id": "c8b4d24f-978a-4e84-a89b-357e7ca325be",
   "metadata": {},
   "outputs": [],
   "source": []
  }
 ],
 "metadata": {
  "kernelspec": {
   "display_name": "Python 3 (ipykernel)",
   "language": "python",
   "name": "python3"
  },
  "language_info": {
   "codemirror_mode": {
    "name": "ipython",
    "version": 3
   },
   "file_extension": ".py",
   "mimetype": "text/x-python",
   "name": "python",
   "nbconvert_exporter": "python",
   "pygments_lexer": "ipython3",
   "version": "3.12.7"
  }
 },
 "nbformat": 4,
 "nbformat_minor": 5
}
